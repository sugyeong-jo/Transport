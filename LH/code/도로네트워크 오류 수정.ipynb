{
 "cells": [
  {
   "cell_type": "markdown",
   "metadata": {},
   "source": [
    "이 노트에서는 도로 네트워크를 그래프로 가져오는 과정에서 발생한 문제를 살펴보고, 이를 해결하는 과정을 다룹니다.\n",
    "순서는 다음과 같습니다.\n",
    "\n",
    "도로 네트워크를 그래프로 가져오면 어떤 문제가 발생하는걸까?\n",
    "데이터 하나씩 확인하며 문제 해결하기"
   ]
  },
  {
   "cell_type": "code",
   "execution_count": 1,
   "metadata": {},
   "outputs": [],
   "source": [
    "# 출력되는 모든 값 표시\n",
    "from IPython.core.interactiveshell import InteractiveShell\n",
    "\n",
    "InteractiveShell.ast_node_interactivity = \"all\""
   ]
  },
  {
   "cell_type": "markdown",
   "metadata": {},
   "source": [
    "도로 네트워크를 그래프로 가져오면 어떤 문제가 발생하는걸까?\n",
    "먼저 도로 네트워크 데이터를 가져옵니다."
   ]
  },
  {
   "cell_type": "code",
   "execution_count": 7,
   "metadata": {},
   "outputs": [
    {
     "ename": "DriverError",
     "evalue": "data/moc_link_2017.geojson: No such file or directory",
     "output_type": "error",
     "traceback": [
      "\u001b[0;31m---------------------------------------------------------------------------\u001b[0m",
      "\u001b[0;31mCPLE_OpenFailedError\u001b[0m                      Traceback (most recent call last)",
      "\u001b[0;32mfiona/_shim.pyx\u001b[0m in \u001b[0;36mfiona._shim.gdal_open_vector\u001b[0;34m()\u001b[0m\n",
      "\u001b[0;32mfiona/_err.pyx\u001b[0m in \u001b[0;36mfiona._err.exc_wrap_pointer\u001b[0;34m()\u001b[0m\n",
      "\u001b[0;31mCPLE_OpenFailedError\u001b[0m: data/moc_link_2017.geojson: No such file or directory",
      "\nDuring handling of the above exception, another exception occurred:\n",
      "\u001b[0;31mDriverError\u001b[0m                               Traceback (most recent call last)",
      "\u001b[0;32m<ipython-input-7-e670616b1f03>\u001b[0m in \u001b[0;36m<module>\u001b[0;34m\u001b[0m\n\u001b[1;32m      1\u001b[0m \u001b[0;32mimport\u001b[0m \u001b[0mgeopandas\u001b[0m \u001b[0;32mas\u001b[0m \u001b[0mgpd\u001b[0m\u001b[0;34m\u001b[0m\u001b[0;34m\u001b[0m\u001b[0m\n\u001b[1;32m      2\u001b[0m \u001b[0;34m\u001b[0m\u001b[0m\n\u001b[0;32m----> 3\u001b[0;31m \u001b[0mdf_link\u001b[0m \u001b[0;34m=\u001b[0m \u001b[0mgpd\u001b[0m\u001b[0;34m.\u001b[0m\u001b[0mread_file\u001b[0m\u001b[0;34m(\u001b[0m\u001b[0;34m'data/moc_link_2017.geojson'\u001b[0m\u001b[0;34m)\u001b[0m\u001b[0;34m\u001b[0m\u001b[0;34m\u001b[0m\u001b[0m\n\u001b[0m\u001b[1;32m      4\u001b[0m \u001b[0mdf_link\u001b[0m\u001b[0;34m.\u001b[0m\u001b[0mshape\u001b[0m\u001b[0;34m\u001b[0m\u001b[0;34m\u001b[0m\u001b[0m\n\u001b[1;32m      5\u001b[0m \u001b[0mdf_link\u001b[0m\u001b[0;34m.\u001b[0m\u001b[0mhead\u001b[0m\u001b[0;34m(\u001b[0m\u001b[0;34m)\u001b[0m\u001b[0;34m\u001b[0m\u001b[0;34m\u001b[0m\u001b[0m\n",
      "\u001b[0;32m~/anaconda3/envs/ox/lib/python3.8/site-packages/geopandas/io/file.py\u001b[0m in \u001b[0;36mread_file\u001b[0;34m(filename, bbox, **kwargs)\u001b[0m\n\u001b[1;32m     75\u001b[0m \u001b[0;34m\u001b[0m\u001b[0m\n\u001b[1;32m     76\u001b[0m     \u001b[0;32mwith\u001b[0m \u001b[0mfiona_env\u001b[0m\u001b[0;34m(\u001b[0m\u001b[0;34m)\u001b[0m\u001b[0;34m:\u001b[0m\u001b[0;34m\u001b[0m\u001b[0;34m\u001b[0m\u001b[0m\n\u001b[0;32m---> 77\u001b[0;31m         \u001b[0;32mwith\u001b[0m \u001b[0mreader\u001b[0m\u001b[0;34m(\u001b[0m\u001b[0mpath_or_bytes\u001b[0m\u001b[0;34m,\u001b[0m \u001b[0;34m**\u001b[0m\u001b[0mkwargs\u001b[0m\u001b[0;34m)\u001b[0m \u001b[0;32mas\u001b[0m \u001b[0mfeatures\u001b[0m\u001b[0;34m:\u001b[0m\u001b[0;34m\u001b[0m\u001b[0;34m\u001b[0m\u001b[0m\n\u001b[0m\u001b[1;32m     78\u001b[0m \u001b[0;34m\u001b[0m\u001b[0m\n\u001b[1;32m     79\u001b[0m             \u001b[0;31m# In a future Fiona release the crs attribute of features will\u001b[0m\u001b[0;34m\u001b[0m\u001b[0;34m\u001b[0m\u001b[0;34m\u001b[0m\u001b[0m\n",
      "\u001b[0;32m~/anaconda3/envs/ox/lib/python3.8/site-packages/fiona/env.py\u001b[0m in \u001b[0;36mwrapper\u001b[0;34m(*args, **kwargs)\u001b[0m\n\u001b[1;32m    396\u001b[0m     \u001b[0;32mdef\u001b[0m \u001b[0mwrapper\u001b[0m\u001b[0;34m(\u001b[0m\u001b[0;34m*\u001b[0m\u001b[0margs\u001b[0m\u001b[0;34m,\u001b[0m \u001b[0;34m**\u001b[0m\u001b[0mkwargs\u001b[0m\u001b[0;34m)\u001b[0m\u001b[0;34m:\u001b[0m\u001b[0;34m\u001b[0m\u001b[0;34m\u001b[0m\u001b[0m\n\u001b[1;32m    397\u001b[0m         \u001b[0;32mif\u001b[0m \u001b[0mlocal\u001b[0m\u001b[0;34m.\u001b[0m\u001b[0m_env\u001b[0m\u001b[0;34m:\u001b[0m\u001b[0;34m\u001b[0m\u001b[0;34m\u001b[0m\u001b[0m\n\u001b[0;32m--> 398\u001b[0;31m             \u001b[0;32mreturn\u001b[0m \u001b[0mf\u001b[0m\u001b[0;34m(\u001b[0m\u001b[0;34m*\u001b[0m\u001b[0margs\u001b[0m\u001b[0;34m,\u001b[0m \u001b[0;34m**\u001b[0m\u001b[0mkwargs\u001b[0m\u001b[0;34m)\u001b[0m\u001b[0;34m\u001b[0m\u001b[0;34m\u001b[0m\u001b[0m\n\u001b[0m\u001b[1;32m    399\u001b[0m         \u001b[0;32melse\u001b[0m\u001b[0;34m:\u001b[0m\u001b[0;34m\u001b[0m\u001b[0;34m\u001b[0m\u001b[0m\n\u001b[1;32m    400\u001b[0m             \u001b[0;32mif\u001b[0m \u001b[0misinstance\u001b[0m\u001b[0;34m(\u001b[0m\u001b[0margs\u001b[0m\u001b[0;34m[\u001b[0m\u001b[0;36m0\u001b[0m\u001b[0;34m]\u001b[0m\u001b[0;34m,\u001b[0m \u001b[0mstr\u001b[0m\u001b[0;34m)\u001b[0m\u001b[0;34m:\u001b[0m\u001b[0;34m\u001b[0m\u001b[0;34m\u001b[0m\u001b[0m\n",
      "\u001b[0;32m~/anaconda3/envs/ox/lib/python3.8/site-packages/fiona/__init__.py\u001b[0m in \u001b[0;36mopen\u001b[0;34m(fp, mode, driver, schema, crs, encoding, layer, vfs, enabled_drivers, crs_wkt, **kwargs)\u001b[0m\n\u001b[1;32m    251\u001b[0m \u001b[0;34m\u001b[0m\u001b[0m\n\u001b[1;32m    252\u001b[0m         \u001b[0;32mif\u001b[0m \u001b[0mmode\u001b[0m \u001b[0;32min\u001b[0m \u001b[0;34m(\u001b[0m\u001b[0;34m'a'\u001b[0m\u001b[0;34m,\u001b[0m \u001b[0;34m'r'\u001b[0m\u001b[0;34m)\u001b[0m\u001b[0;34m:\u001b[0m\u001b[0;34m\u001b[0m\u001b[0;34m\u001b[0m\u001b[0m\n\u001b[0;32m--> 253\u001b[0;31m             c = Collection(path, mode, driver=driver, encoding=encoding,\n\u001b[0m\u001b[1;32m    254\u001b[0m                            layer=layer, enabled_drivers=enabled_drivers, **kwargs)\n\u001b[1;32m    255\u001b[0m         \u001b[0;32melif\u001b[0m \u001b[0mmode\u001b[0m \u001b[0;34m==\u001b[0m \u001b[0;34m'w'\u001b[0m\u001b[0;34m:\u001b[0m\u001b[0;34m\u001b[0m\u001b[0;34m\u001b[0m\u001b[0m\n",
      "\u001b[0;32m~/anaconda3/envs/ox/lib/python3.8/site-packages/fiona/collection.py\u001b[0m in \u001b[0;36m__init__\u001b[0;34m(self, path, mode, driver, schema, crs, encoding, layer, vsi, archive, enabled_drivers, crs_wkt, ignore_fields, ignore_geometry, **kwargs)\u001b[0m\n\u001b[1;32m    152\u001b[0m             \u001b[0;32mif\u001b[0m \u001b[0mself\u001b[0m\u001b[0;34m.\u001b[0m\u001b[0mmode\u001b[0m \u001b[0;34m==\u001b[0m \u001b[0;34m'r'\u001b[0m\u001b[0;34m:\u001b[0m\u001b[0;34m\u001b[0m\u001b[0;34m\u001b[0m\u001b[0m\n\u001b[1;32m    153\u001b[0m                 \u001b[0mself\u001b[0m\u001b[0;34m.\u001b[0m\u001b[0msession\u001b[0m \u001b[0;34m=\u001b[0m \u001b[0mSession\u001b[0m\u001b[0;34m(\u001b[0m\u001b[0;34m)\u001b[0m\u001b[0;34m\u001b[0m\u001b[0;34m\u001b[0m\u001b[0m\n\u001b[0;32m--> 154\u001b[0;31m                 \u001b[0mself\u001b[0m\u001b[0;34m.\u001b[0m\u001b[0msession\u001b[0m\u001b[0;34m.\u001b[0m\u001b[0mstart\u001b[0m\u001b[0;34m(\u001b[0m\u001b[0mself\u001b[0m\u001b[0;34m,\u001b[0m \u001b[0;34m**\u001b[0m\u001b[0mkwargs\u001b[0m\u001b[0;34m)\u001b[0m\u001b[0;34m\u001b[0m\u001b[0;34m\u001b[0m\u001b[0m\n\u001b[0m\u001b[1;32m    155\u001b[0m             \u001b[0;32melif\u001b[0m \u001b[0mself\u001b[0m\u001b[0;34m.\u001b[0m\u001b[0mmode\u001b[0m \u001b[0;32min\u001b[0m \u001b[0;34m(\u001b[0m\u001b[0;34m'a'\u001b[0m\u001b[0;34m,\u001b[0m \u001b[0;34m'w'\u001b[0m\u001b[0;34m)\u001b[0m\u001b[0;34m:\u001b[0m\u001b[0;34m\u001b[0m\u001b[0;34m\u001b[0m\u001b[0m\n\u001b[1;32m    156\u001b[0m                 \u001b[0mself\u001b[0m\u001b[0;34m.\u001b[0m\u001b[0msession\u001b[0m \u001b[0;34m=\u001b[0m \u001b[0mWritingSession\u001b[0m\u001b[0;34m(\u001b[0m\u001b[0;34m)\u001b[0m\u001b[0;34m\u001b[0m\u001b[0;34m\u001b[0m\u001b[0m\n",
      "\u001b[0;32mfiona/ogrext.pyx\u001b[0m in \u001b[0;36mfiona.ogrext.Session.start\u001b[0;34m()\u001b[0m\n",
      "\u001b[0;32mfiona/_shim.pyx\u001b[0m in \u001b[0;36mfiona._shim.gdal_open_vector\u001b[0;34m()\u001b[0m\n",
      "\u001b[0;31mDriverError\u001b[0m: data/moc_link_2017.geojson: No such file or directory"
     ]
    }
   ],
   "source": [
    "import geopandas as gpd\n",
    "\n",
    "df_link = gpd.read_file('data/moc_link_2017.geojson')\n",
    "df_link.shape\n",
    "df_link.head()"
   ]
  },
  {
   "cell_type": "code",
   "execution_count": null,
   "metadata": {},
   "outputs": [],
   "source": [
    "중간에 None 값이 있습니다.\n",
    "None 값의 노드를 임의의 노드이름으로 수정해줍니다."
   ]
  },
  {
   "cell_type": "code",
   "execution_count": null,
   "metadata": {},
   "outputs": [],
   "source": [
    "df_link[(df_link['f_node'].isnull()) | (df_link['t_node'].isnull())]"
   ]
  },
  {
   "cell_type": "code",
   "execution_count": null,
   "metadata": {},
   "outputs": [],
   "source": [
    "df_link.loc[5636, 't_node'] = 'temp1'\n",
    "df_link.loc[5638, 'f_node'] = 'temp1'"
   ]
  },
  {
   "cell_type": "code",
   "execution_count": null,
   "metadata": {},
   "outputs": [],
   "source": [
    "import networkx as nx\n",
    "\n",
    "# edge 들로 그래프를 구성합니다.\n",
    "graph_proj = nx.from_pandas_edgelist(df_link, \n",
    "                                     source='f_node', target='t_node',\n",
    "                                     create_using=nx.MultiDiGraph)\n",
    "\n",
    "\n",
    "# node 들에 (x, y) 정보를 넣습니다.\n",
    "d = {}\n",
    "for row in df_link.itertuples():\n",
    "    f_node = getattr(row, 'f_node')\n",
    "    t_node = getattr(row, 't_node')\n",
    "    geometry = getattr(row, 'geometry')\n",
    "    \n",
    "    m_line_string = getattr(row, 'geometry')\n",
    "    f_node_coord = list(m_line_string[0].coords[0])\n",
    "    t_node_coord = list(m_line_string[-1].coords[-1])\n",
    "    \n",
    "    d[f_node] = dict(x=f_node_coord[0], y=f_node_coord[1])\n",
    "    d[t_node] = dict(x=t_node_coord[0], y=t_node_coord[1])\n",
    "    \n",
    "nx.set_node_attributes(graph_proj, d)"
   ]
  },
  {
   "cell_type": "code",
   "execution_count": null,
   "metadata": {},
   "outputs": [],
   "source": [
    "import os\n",
    "import deckgljupyter.Layer as deckgl\n",
    "\n",
    "access_token = os.getenv('MAPBOX_ACCESS_TOKEN')\n",
    "view_options = {\n",
    "    'center': [126.908, 37.132],\n",
    "    'zoom': 12,\n",
    "    'bearing': 0,\n",
    "    'pitch': 60,\n",
    "    'style': 'mapbox://styles/mapbox/dark-v9',\n",
    "    'access_token': access_token\n",
    "}\n",
    "\n",
    "def draw_graph(graph):\n",
    "    # make node list\n",
    "    node_list = []\n",
    "    for node in graph.nodes:\n",
    "        node_list.append({\n",
    "            'node': node,\n",
    "            'position': list(graph.nodes[node].values())\n",
    "        })\n",
    "\n",
    "    # make edge list\n",
    "    link_list = []\n",
    "    for edge in graph.edges:\n",
    "        # edge is like ('2330045500', '2330045200', 0).\n",
    "        u, v = edge[0], edge[1]\n",
    "        link_list.append({\n",
    "            'edge': \"{} -> {}\".format(u, v),\n",
    "            'path': [list(graph.nodes[u].values()), list(graph.nodes[v].values())]\n",
    "        })\n",
    "        \n",
    "    # draw map\n",
    "    m = deckgl.Map(**view_options)\n",
    "\n",
    "    m.add(deckgl.ScatterplotLayer(node_list,\n",
    "                               getRadius=10,\n",
    "                               getFillColor=[225, 120, 0],\n",
    "                               pickable=True,\n",
    "                               tooltip=['node']))\n",
    "\n",
    "    m.add(deckgl.PathLayer(link_list,\n",
    "                           getWidth=3,\n",
    "                           getColor=[255, 221, 0],\n",
    "                           opacity=0.5,\n",
    "                           pickable=True,\n",
    "                           tooltip=['edge']))\n",
    "\n",
    "    m.show()"
   ]
  },
  {
   "cell_type": "code",
   "execution_count": null,
   "metadata": {},
   "outputs": [],
   "source": [
    "draw_graph(graph_proj)"
   ]
  },
  {
   "cell_type": "code",
   "execution_count": null,
   "metadata": {},
   "outputs": [],
   "source": [
    "df_link[df_link.f_node == '2230027900']"
   ]
  },
  {
   "cell_type": "code",
   "execution_count": null,
   "metadata": {},
   "outputs": [],
   "source": [
    "마지막 geometry 열을 살펴보면, 각 링크에서 2230027900 노드의 좌표를 알 수 있습니다."
   ]
  },
  {
   "cell_type": "code",
   "execution_count": null,
   "metadata": {},
   "outputs": [],
   "source": [
    "for i in df_link[df_link.f_node == '2230027900']['geometry']:\n",
    "    print(list(i[0].coords)[0])"
   ]
  },
  {
   "cell_type": "code",
   "execution_count": null,
   "metadata": {},
   "outputs": [],
   "source": [
    "원래대로라면, 위 6개의 좌표가 모두가 같아야하는데, 그렇지 않습니다.\n",
    "앞의 3개와 뒤에 3개의 좌표가 다릅니다.\n",
    "즉, 위의 문제는 다음과 같이 유추할 수 있습니다.\n",
    "\n",
    "원래 데이터 자체에 오류가 있어서,\n",
    "이를 그래프로 옮기는 과정에서 잘못 처리되었다.\n",
    "즉, 원래는 다른 하나의 좌표가 나머지 좌표를 덮어버려서 위와 같이 노드하나가 소실된 것으로 보입니다.\n",
    "\n",
    "그럼 2개 중(앞의 3개 vs 뒤 3개) 어떤 좌표를 선택해야 할까요?\n",
    "두 번째 스크린샷을 보면 유추할 수 있습니다.\n",
    "2230027900 노드의 자리는 원래 첫 번째 스크린 샷의 자리가 아닙니다.\n",
    "고속도로 쪽 노드가 2230027800 임을 감안하면, 그 다음에 2230027900 가 등장하는 것이 맞는 것을 추론할 수 있습니다.\n",
    "\n",
    "첫 번째 스크린 샷에 등장하는 또 다른 노드 2330120100 역시 마찬가지입니다."
   ]
  },
  {
   "cell_type": "code",
   "execution_count": null,
   "metadata": {},
   "outputs": [],
   "source": [
    "df_link[df_link.t_node == '2330120100']\n",
    "for i in df_link[df_link.f_node == '2330120100']['geometry']:\n",
    "    print(list(i[0].coords)[0])"
   ]
  },
  {
   "cell_type": "code",
   "execution_count": null,
   "metadata": {},
   "outputs": [],
   "source": [
    "정리하면, df_link 즉 원래 데이터 자체에 노드 정보가 잘못 기입된 것입니다.\n",
    "2개의 노드번호만 오류가 있으므로, 직접 이 노드들을 수정하여 처리해보겠습니다.\n",
    "\n",
    "데이터 하나씩 확인하며 수정하기\n",
    "스크린 샷 1번에 나온 두 노드의 번호는 각각 2230027900 와 2330120100 가 아닙니다.\n",
    "(아까도 말했지만, 데이터 상에는 그렇게 기입되있지만, 시각화 해보면 잘못 기입된 것을 추론할 수 있습니다.)\n",
    "\n",
    "따라서, 이 두 노드의 번호를 임의 다른 번호로 명명하여, 원래 노드가 분실되지 않게 처리하겠습니다.\n",
    "\n",
    "2230027900 노드"
   ]
  },
  {
   "cell_type": "code",
   "execution_count": null,
   "metadata": {},
   "outputs": [],
   "source": [
    "df_link[df_link.f_node == '2230027900']"
   ]
  },
  {
   "cell_type": "code",
   "execution_count": null,
   "metadata": {},
   "outputs": [],
   "source": [
    "마지막 3개의 링크에서 f_node 가 잘못되었습니다.\n",
    "실제 노드의 이름을 모르므로, temp2 라고 수정하겠습니다."
   ]
  },
  {
   "cell_type": "code",
   "execution_count": null,
   "metadata": {},
   "outputs": [],
   "source": [
    "df_link.loc[[7075, 7079, 7086], 'f_node'] = 'temp2'"
   ]
  },
  {
   "cell_type": "code",
   "execution_count": null,
   "metadata": {},
   "outputs": [],
   "source": [
    "df_link[df_link.t_node == '2230027900']"
   ]
  },
  {
   "cell_type": "code",
   "execution_count": null,
   "metadata": {},
   "outputs": [],
   "source": [
    "마찬가지로 마지막 3개에서 t_node 를 수정합니다."
   ]
  },
  {
   "cell_type": "code",
   "execution_count": null,
   "metadata": {},
   "outputs": [],
   "source": [
    "2330120100 노드\n",
    "위와 동일한 작업을 합니다.\n",
    "\n"
   ]
  },
  {
   "cell_type": "code",
   "execution_count": null,
   "metadata": {},
   "outputs": [],
   "source": [
    "df_link[df_link.f_node == '2330120100']\n",
    "df_link.loc[[7076, 7084, 7085], 'f_node'] = 'temp3'\n",
    "df_link[df_link.t_node == '2330120100']\n",
    "df_link.loc[[7078, 7081, 7086], 't_node'] = 'temp3'"
   ]
  },
  {
   "cell_type": "code",
   "execution_count": null,
   "metadata": {},
   "outputs": [],
   "source": [
    "해결했는지 확인하기\n",
    "이제 다시 그래프를 구성하여, 시각화함으로써 제대로 해결이 되었는지 확인해보겠습니다."
   ]
  },
  {
   "cell_type": "code",
   "execution_count": null,
   "metadata": {},
   "outputs": [],
   "source": [
    "# edge 들로 그래프를 구성합니다.\n",
    "graph_proj = nx.from_pandas_edgelist(df_link, \n",
    "                                     source='f_node', target='t_node',\n",
    "                                     create_using=nx.MultiDiGraph)\n",
    "\n",
    "\n",
    "# node 들에 (x, y) 정보를 넣습니다.\n",
    "d = {}\n",
    "for row in df_link.itertuples():\n",
    "    f_node = getattr(row, 'f_node')\n",
    "    t_node = getattr(row, 't_node')\n",
    "    geometry = getattr(row, 'geometry')\n",
    "    \n",
    "    m_line_string = getattr(row, 'geometry')\n",
    "    f_node_coord = list(m_line_string[0].coords[0])\n",
    "    t_node_coord = list(m_line_string[-1].coords[-1])\n",
    "    \n",
    "    d[f_node] = dict(x=f_node_coord[0], y=f_node_coord[1])\n",
    "    d[t_node] = dict(x=t_node_coord[0], y=t_node_coord[1])\n",
    "    \n",
    "nx.set_node_attributes(graph_proj, d)\n",
    "draw_graph(graph_proj)\n",
    "#아까 오류가 있던 부분만 캡처해보면, 다음과 같이 잘 해결한 것을 볼 수 있습니다.\n"
   ]
  },
  {
   "cell_type": "code",
   "execution_count": null,
   "metadata": {},
   "outputs": [],
   "source": [
    "정리\n",
    "정리하면, 기존 데이터 df_link 의 총 3개의 노드에서 노드번호가 잘못 기입된 오류가 있었습니다.\n",
    "이를 보정하는 코드만 정리는 다음과 같았습니다.\n",
    "\n",
    "df_link.loc[5636, 't_node'] = 'temp1'\n",
    "df_link.loc[5638, 'f_node'] = 'temp1'\n",
    "df_link.loc[[7075, 7079, 7086], 'f_node'] = 'temp2'\n",
    "df_link.loc[[7082, 7085, 7087], 't_node'] = 'temp2'\n",
    "df_link.loc[[7076, 7084, 7085], 'f_node'] = 'temp3'\n",
    "df_link.loc[[7078, 7081, 7086], 't_node'] = 'temp3'"
   ]
  }
 ],
 "metadata": {
  "kernelspec": {
   "display_name": "ox",
   "language": "python",
   "name": "ox"
  },
  "language_info": {
   "codemirror_mode": {
    "name": "ipython",
    "version": 3
   },
   "file_extension": ".py",
   "mimetype": "text/x-python",
   "name": "python",
   "nbconvert_exporter": "python",
   "pygments_lexer": "ipython3",
   "version": "3.8.0"
  }
 },
 "nbformat": 4,
 "nbformat_minor": 2
}
